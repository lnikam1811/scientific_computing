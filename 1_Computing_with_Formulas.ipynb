{
  "nbformat": 4,
  "nbformat_minor": 0,
  "metadata": {
    "colab": {
      "provenance": [],
      "authorship_tag": "ABX9TyOUV3c5XfKVbURw/bUXQ4XC",
      "include_colab_link": true
    },
    "kernelspec": {
      "name": "python3",
      "display_name": "Python 3"
    },
    "language_info": {
      "name": "python"
    }
  },
  "cells": [
    {
      "cell_type": "markdown",
      "metadata": {
        "id": "view-in-github",
        "colab_type": "text"
      },
      "source": [
        "<a href=\"https://colab.research.google.com/github/lnikam1811/scientific_computing/blob/master/1_Computing_with_Formulas.ipynb\" target=\"_parent\"><img src=\"https://colab.research.google.com/assets/colab-badge.svg\" alt=\"Open In Colab\"/></a>"
      ]
    },
    {
      "cell_type": "markdown",
      "source": [
        "## Newton's second law of motion\n",
        "$$y(t) = v_0t-\\frac{1}{2}gt^2 \\tag{1.1}$$\n",
        "\n",
        "solutions to the equation $y = 0$:\n",
        "$$ v_0t\\frac{1}{2}gt^2 = t(v_0-\\frac{1}{2}gt) = 0 ⇒ t = 0 \\ or \\ t=\\frac{2v_0}{g}$$\n",
        "\n",
        "that is, the ball returns after $\\frac{2v_0}{g}$ seconds, therefore lets restrict the interest of solution to $t \\ ϵ \\ [0,\\frac{2v_0}{g}].$\n",
        "\n",
        "### The algorithm consists of three steps:\n",
        "1. initialize the variables $v_0, \\ g$ and $t$ with numerical values,\n",
        "2. evaluate y according to the formula $(1.1),$\n",
        "3. print the $y$ value to the screen."
      ],
      "metadata": {
        "id": "SycgrQE3B--I"
      }
    },
    {
      "cell_type": "code",
      "execution_count": 9,
      "metadata": {
        "colab": {
          "base_uri": "https://localhost:8080/"
        },
        "id": "191qM89E_koQ",
        "outputId": "cbbeb951-3294-4fcb-facd-b541e740f5b9"
      },
      "outputs": [
        {
          "output_type": "stream",
          "name": "stdout",
          "text": [
            "At t=0.6 s, the height of the ball is 1.23 m.\n",
            "At t=0.6 s, the height of the ball is 1.2342 m.\n",
            "\n",
            "At t=0.600000 s, a ball with\n",
            "initial velocity v0=5.000E+00 m/s\n",
            "is located at the height 1.23 m.\n",
            "\n"
          ]
        }
      ],
      "source": [
        "# Program for computing the height of a ball in vertical motion\n",
        "\n",
        "v0 = 5 # Initial velocity\n",
        "g = 9.81 # acceleration of gravity\n",
        "t = 0.6 # time\n",
        "y = v0*t - 0.5*g*t**2 # vertical position\n",
        "\n",
        "print(\"At t=%g s, the height of the ball is %.2f m.\" % (t,y))\n",
        "print(f\"At t={t} s, the height of the ball is {y} m.\")\n",
        "print(\"\"\"\n",
        "At t=%f s, a ball with\n",
        "initial velocity v0=%.3E m/s\n",
        "is located at the height %.2f m.\n",
        "\"\"\" % (t,v0,y))"
      ]
    },
    {
      "cell_type": "markdown",
      "source": [
        "## Celsius-Fahrenheit Conversion\n",
        "$$F = \\frac{9}{5}C+32 \\tag{1.2}$$\n"
      ],
      "metadata": {
        "id": "eRYA720yJPaK"
      }
    },
    {
      "cell_type": "code",
      "source": [
        "C = 21 # Temp in Celsius\n",
        "F = (9./5)*C + 32 # Temp in Fahrenheit\n",
        "print(F)"
      ],
      "metadata": {
        "colab": {
          "base_uri": "https://localhost:8080/"
        },
        "id": "MkZs3RSxJr5m",
        "outputId": "991cdbef-2374-4ef9-e639-170304bd403a"
      },
      "execution_count": 13,
      "outputs": [
        {
          "output_type": "stream",
          "name": "stdout",
          "text": [
            "69.80000000000001\n"
          ]
        }
      ]
    },
    {
      "cell_type": "markdown",
      "source": [
        "## How long time does it take for the ball to reach the height $y_c$?\n",
        "$$y_c = v_0t-\\frac{1}{2}gt^2$$\n",
        "Rearranging,\n",
        "$$\\frac{1}{2}gt^2-v_0t+y_c=0$$\n",
        "using the quadratic equation to solve, we find\n",
        "$$t_1=\\frac{v_0-\\sqrt{{v_0}^2-2gy_c}}{g}, \\quad t_1=\\frac{v_0+\\sqrt{{v_0}^2-2gy_c}}{g}$$\n",
        "\n",
        "There are two solutions because the ball reaches the height $y_c$ on its way up $(t=t_1)$ and on its way down$(t=t_2>t_1)$."
      ],
      "metadata": {
        "id": "Lo_Q2ToYK5Lj"
      }
    },
    {
      "cell_type": "code",
      "source": [
        "import math as m\n",
        "\n",
        "v0 = 5\n",
        "g = 9.81\n",
        "yc = 0.2\n",
        "\n",
        "t1 = (v0 - m.sqrt(v0**2 - 2*g*yc))/g\n",
        "t2 = (v0 + m.sqrt(v0**2 - 2*g*yc))/g\n",
        "\n",
        "print(f\"At t={t1:.6f} s and {t2:.6f} s, the height is {yc} m.\")"
      ],
      "metadata": {
        "colab": {
          "base_uri": "https://localhost:8080/"
        },
        "id": "i8DRZGfpLE2a",
        "outputId": "0d89bb19-d685-415e-8696-b6a56a5fc725"
      },
      "execution_count": 21,
      "outputs": [
        {
          "output_type": "stream",
          "name": "stdout",
          "text": [
            "At t=0.041706 s and 0.977662 s, the height is 0.2 m.\n"
          ]
        }
      ]
    },
    {
      "cell_type": "code",
      "source": [],
      "metadata": {
        "id": "RjHzCRmSOULz"
      },
      "execution_count": null,
      "outputs": []
    }
  ]
}